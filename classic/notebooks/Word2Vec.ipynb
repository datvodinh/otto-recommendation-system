{
 "cells": [
  {
   "cell_type": "code",
   "execution_count": 1,
   "id": "2d3c605a",
   "metadata": {},
   "outputs": [],
   "source": [
    "# !pip install -U chardet urllib3 gensim"
   ]
  },
  {
   "cell_type": "code",
   "execution_count": 2,
   "id": "a84ad85b",
   "metadata": {},
   "outputs": [
    {
     "name": "stdout",
     "output_type": "stream",
     "text": [
      "/home/datvodinh/Workspace/otto-recsys/kaggle_otto_rs/src\n"
     ]
    },
    {
     "name": "stderr",
     "output_type": "stream",
     "text": [
      "/home/datvodinh/miniconda3/envs/kaggle-otto/lib/python3.11/site-packages/IPython/core/magics/osm.py:417: UserWarning: This is now an optional IPython functionality, setting dhist requires you to install the `pickleshare` library.\n",
      "  self.shell.db['dhist'] = compress_dhist(dhist)[-100:]\n"
     ]
    }
   ],
   "source": [
    "cd ../src"
   ]
  },
  {
   "cell_type": "code",
   "execution_count": 3,
   "id": "28ed241f",
   "metadata": {},
   "outputs": [],
   "source": [
    "%load_ext autoreload\n",
    "%autoreload 2"
   ]
  },
  {
   "cell_type": "code",
   "execution_count": 4,
   "id": "0d711c46",
   "metadata": {},
   "outputs": [],
   "source": [
    "import os\n",
    "import gc\n",
    "import sys\n",
    "import cudf\n",
    "import json\n",
    "import glob\n",
    "import numba\n",
    "import pickle\n",
    "import warnings\n",
    "import itertools\n",
    "import numpy as np\n",
    "import pandas as pd\n",
    "\n",
    "from tqdm import tqdm\n",
    "from datetime import datetime\n",
    "from collections import Counter\n",
    "from numerize.numerize import numerize\n",
    "\n",
    "from gensim.models import Word2Vec\n",
    "from gensim.test.utils import common_texts\n",
    "\n",
    "warnings.simplefilter(action=\"ignore\", category=FutureWarning)"
   ]
  },
  {
   "cell_type": "code",
   "execution_count": 5,
   "id": "1271bd80",
   "metadata": {},
   "outputs": [],
   "source": [
    "from params import *"
   ]
  },
  {
   "cell_type": "markdown",
   "id": "2fb71323",
   "metadata": {},
   "source": [
    "### Params"
   ]
  },
  {
   "cell_type": "code",
   "execution_count": 6,
   "id": "e39e0cac",
   "metadata": {},
   "outputs": [],
   "source": [
    "MODE = \"test\""
   ]
  },
  {
   "cell_type": "code",
   "execution_count": 7,
   "id": "8cb601c2",
   "metadata": {},
   "outputs": [],
   "source": [
    "if MODE == \"val\":\n",
    "    files = glob.glob(\"../output/full_train_parquet/*\") + glob.glob(\n",
    "        \"../output/val_parquet/*\"\n",
    "    )\n",
    "elif MODE == \"test\":\n",
    "    files = glob.glob(\"../output/full_train_val_parquet/*\") + glob.glob(\n",
    "        \"../output/test_parquet/*\"\n",
    "    )\n",
    "else:\n",
    "    raise NotImplementedError"
   ]
  },
  {
   "cell_type": "code",
   "execution_count": 8,
   "id": "ac5d1d9f",
   "metadata": {},
   "outputs": [
    {
     "data": {
      "text/html": [
       "<div>\n",
       "<style scoped>\n",
       "    .dataframe tbody tr th:only-of-type {\n",
       "        vertical-align: middle;\n",
       "    }\n",
       "\n",
       "    .dataframe tbody tr th {\n",
       "        vertical-align: top;\n",
       "    }\n",
       "\n",
       "    .dataframe thead th {\n",
       "        text-align: right;\n",
       "    }\n",
       "</style>\n",
       "<table border=\"1\" class=\"dataframe\">\n",
       "  <thead>\n",
       "    <tr style=\"text-align: right;\">\n",
       "      <th></th>\n",
       "      <th>session</th>\n",
       "      <th>aid</th>\n",
       "      <th>ts</th>\n",
       "      <th>type</th>\n",
       "    </tr>\n",
       "  </thead>\n",
       "  <tbody>\n",
       "    <tr>\n",
       "      <th>0</th>\n",
       "      <td>900000</td>\n",
       "      <td>1632747</td>\n",
       "      <td>1659374717945</td>\n",
       "      <td>clicks</td>\n",
       "    </tr>\n",
       "    <tr>\n",
       "      <th>1</th>\n",
       "      <td>900000</td>\n",
       "      <td>1639219</td>\n",
       "      <td>1659374740973</td>\n",
       "      <td>clicks</td>\n",
       "    </tr>\n",
       "    <tr>\n",
       "      <th>2</th>\n",
       "      <td>900001</td>\n",
       "      <td>1466881</td>\n",
       "      <td>1659374717981</td>\n",
       "      <td>clicks</td>\n",
       "    </tr>\n",
       "    <tr>\n",
       "      <th>3</th>\n",
       "      <td>900001</td>\n",
       "      <td>76224</td>\n",
       "      <td>1659374841809</td>\n",
       "      <td>clicks</td>\n",
       "    </tr>\n",
       "    <tr>\n",
       "      <th>4</th>\n",
       "      <td>900001</td>\n",
       "      <td>1466881</td>\n",
       "      <td>1659374900554</td>\n",
       "      <td>clicks</td>\n",
       "    </tr>\n",
       "  </tbody>\n",
       "</table>\n",
       "</div>"
      ],
      "text/plain": [
       "   session      aid             ts    type\n",
       "0   900000  1632747  1659374717945  clicks\n",
       "1   900000  1639219  1659374740973  clicks\n",
       "2   900001  1466881  1659374717981  clicks\n",
       "3   900001    76224  1659374841809  clicks\n",
       "4   900001  1466881  1659374900554  clicks"
      ]
     },
     "execution_count": 8,
     "metadata": {},
     "output_type": "execute_result"
    }
   ],
   "source": [
    "sessions = cudf.concat(\n",
    "    [cudf.read_parquet(f) for f in files], ignore_index=True\n",
    ")\n",
    "sessions.head()"
   ]
  },
  {
   "cell_type": "code",
   "execution_count": 9,
   "id": "56250f58",
   "metadata": {},
   "outputs": [],
   "source": [
    "sessions = sessions.sort_values(['session', 'ts'])\n",
    "sessions = sessions[['session', 'aid']].groupby(['session']).agg(list)\n",
    "\n",
    "sentences = sessions['aid'].to_pandas().to_list()\n",
    "\n",
    "del sessions\n",
    "gc.collect()\n",
    "numba.cuda.current_context().deallocations.clear()"
   ]
  },
  {
   "cell_type": "code",
   "execution_count": 10,
   "id": "72282851",
   "metadata": {},
   "outputs": [
    {
     "data": {
      "text/plain": [
       "[276, 32, 33, 226, 19]"
      ]
     },
     "execution_count": 10,
     "metadata": {},
     "output_type": "execute_result"
    }
   ],
   "source": [
    "[len(s) for s in sentences[:5]]"
   ]
  },
  {
   "cell_type": "code",
   "execution_count": 11,
   "id": "a491d063",
   "metadata": {},
   "outputs": [
    {
     "name": "stdout",
     "output_type": "stream",
     "text": [
      "CPU times: user 1h 48min 14s, sys: 4.81 s, total: 1h 48min 19s\n",
      "Wall time: 14min 27s\n"
     ]
    }
   ],
   "source": [
    "%%time\n",
    "sessions = sessions.sort_values([\"session\", \"ts\"])\n",
    "sessions = sessions[[\"session\", \"aid\"]].groupby([\"session\"]).agg(list)\n",
    "\n",
    "sentences = sessions[\"aid\"].to_pandas().to_list()\n",
    "\n",
    "w2vec = Word2Vec(\n",
    "    sentences=sentences, \n",
    "    vector_size=50, \n",
    "    epochs=5, \n",
    "    sg=1, \n",
    "    window=3, \n",
    "    sample=1e-3, \n",
    "    ns_exponent=1, \n",
    "    min_count=1, \n",
    "    workers=8\n",
    ")"
   ]
  },
  {
   "cell_type": "code",
   "execution_count": 12,
   "id": "553db87a",
   "metadata": {},
   "outputs": [],
   "source": [
    "aid2idx = {aid: i for i, aid in enumerate(w2vec.wv.index_to_key)}"
   ]
  },
  {
   "cell_type": "code",
   "execution_count": 13,
   "id": "ce552348",
   "metadata": {},
   "outputs": [],
   "source": [
    "emb = {}\n",
    "for aid, idx in aid2idx.items():\n",
    "    emb[aid] = w2vec.wv.vectors[idx]"
   ]
  },
  {
   "cell_type": "code",
   "execution_count": 14,
   "id": "e046c7da",
   "metadata": {},
   "outputs": [],
   "source": [
    "pickle.dump(\n",
    "    emb,\n",
    "    open(f'../output/matrix_factorization/word2vec_{MODE}.emb', 'wb')\n",
    ")\n",
    "\n",
    "np.save(f'../output/matrix_factorization/word2vec_{MODE}.npy', w2vec.wv.vectors)"
   ]
  },
  {
   "cell_type": "markdown",
   "id": "3ee677d1",
   "metadata": {},
   "source": [
    "Done !"
   ]
  }
 ],
 "metadata": {
  "kernelspec": {
   "display_name": "kaggle-otto",
   "language": "python",
   "name": "python3"
  },
  "language_info": {
   "codemirror_mode": {
    "name": "ipython",
    "version": 3
   },
   "file_extension": ".py",
   "mimetype": "text/x-python",
   "name": "python",
   "nbconvert_exporter": "python",
   "pygments_lexer": "ipython3",
   "version": "3.11.11"
  }
 },
 "nbformat": 4,
 "nbformat_minor": 5
}
